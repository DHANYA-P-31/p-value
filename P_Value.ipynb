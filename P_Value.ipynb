{
  "nbformat": 4,
  "nbformat_minor": 0,
  "metadata": {
    "colab": {
      "provenance": [],
      "authorship_tag": "ABX9TyM6JNu8EmbquNhbVshee0UE",
      "include_colab_link": true
    },
    "kernelspec": {
      "name": "python3",
      "display_name": "Python 3"
    },
    "language_info": {
      "name": "python"
    }
  },
  "cells": [
    {
      "cell_type": "markdown",
      "metadata": {
        "id": "view-in-github",
        "colab_type": "text"
      },
      "source": [
        "<a href=\"https://colab.research.google.com/github/DHANYA-P-31/p-value/blob/main/P_Value.ipynb\" target=\"_parent\"><img src=\"https://colab.research.google.com/assets/colab-badge.svg\" alt=\"Open In Colab\"/></a>"
      ]
    },
    {
      "cell_type": "code",
      "execution_count": 4,
      "metadata": {
        "colab": {
          "base_uri": "https://localhost:8080/"
        },
        "id": "bIuHp5ZMbFAT",
        "outputId": "83a3a87c-d7e2-42fb-c64f-d866aad19127"
      },
      "outputs": [
        {
          "output_type": "stream",
          "name": "stdout",
          "text": [
            "Scenario 1 (True mean = 0.06): Proportion of p-values <= 0.05: 0.042\n",
            "Scenario 2 (True mean = 0.07): Proportion of p-values <= 0.05: 0.952\n",
            "Difference in proportions: 0.910\n"
          ]
        }
      ],
      "source": [
        "import numpy as np\n",
        "from scipy.stats import norm\n",
        "\n",
        "n = 50\n",
        "sigma = 0.02\n",
        "se = sigma / np.sqrt(n)  # Standard error ≈ 0.002828\n",
        "n_simulations = 1000\n",
        "alpha = 0.05\n",
        "\n",
        "# Scenario 1: True mean = 0.06\n",
        "p_values_1 = []\n",
        "for _ in range(n_simulations):\n",
        "    sample = np.random.normal(loc=0.06, scale=sigma, size=n)\n",
        "    sample_mean = np.mean(sample)\n",
        "    z = (sample_mean - 0.06) / se\n",
        "    p_value = 2 * (1 - norm.cdf(abs(z)))\n",
        "    p_values_1.append(p_value)\n",
        "prop_1 = np.mean(np.array(p_values_1) <= alpha)\n",
        "\n",
        "# Scenario 2: True mean = 0.07\n",
        "p_values_2 = []\n",
        "for _ in range(n_simulations):\n",
        "    sample = np.random.normal(loc=0.07, scale=sigma, size=n)\n",
        "    sample_mean = np.mean(sample)\n",
        "    z = (sample_mean - 0.06) / se\n",
        "    p_value = 2 * (1 - norm.cdf(abs(z)))\n",
        "    p_values_2.append(p_value)\n",
        "prop_2 = np.mean(np.array(p_values_2) <= alpha)\n",
        "\n",
        "# Print the results\n",
        "print(f\"Scenario 1 (True mean = 0.06): Proportion of p-values <= 0.05: {prop_1:.3f}\")\n",
        "print(f\"Scenario 2 (True mean = 0.07): Proportion of p-values <= 0.05: {prop_2:.3f}\")\n",
        "print(f\"Difference in proportions: {prop_2 - prop_1:.3f}\")"
      ]
    },
    {
      "cell_type": "code",
      "source": [
        "import numpy as np\n",
        "from scipy.stats import norm\n",
        "\n",
        "# Constants\n",
        "pop_sd = 2\n",
        "sample_size = 50\n",
        "n_simulations = 1000\n",
        "null_mean = 6\n",
        "\n",
        "def run_simulation(true_mean):\n",
        "    p_values = []\n",
        "    for _ in range(n_simulations):\n",
        "        sample = np.random.normal(loc=true_mean, scale=pop_sd, size=sample_size)\n",
        "        sample_mean = np.mean(sample)\n",
        "\n",
        "        # Compute z-score\n",
        "        z = (sample_mean - null_mean) / (pop_sd / np.sqrt(sample_size))\n",
        "\n",
        "        # Two-tailed p-value\n",
        "        p = 2 * (1 - norm.cdf(abs(z)))\n",
        "        p_values.append(p)\n",
        "\n",
        "    return np.array(p_values)\n",
        "\n",
        "# Run both scenarios\n",
        "p_values_case_A = run_simulation(true_mean=6)  # Null hypothesis is true\n",
        "p_values_case_B = run_simulation(true_mean=7)  # Null hypothesis is false\n",
        "\n",
        "# Percentage with p-value <= 0.05\n",
        "percent_case_A = np.mean(p_values_case_A <= 0.05) * 100\n",
        "percent_case_B = np.mean(p_values_case_B <= 0.05) * 100\n",
        "\n",
        "print(f\"Case A (True Mean = 6%): {percent_case_A:.2f}% of p-values <= 5%\")\n",
        "print(f\"Case B (True Mean = 7%): {percent_case_B:.2f}% of p-values <= 5%\")"
      ],
      "metadata": {
        "colab": {
          "base_uri": "https://localhost:8080/"
        },
        "id": "sh3wwFAacnL6",
        "outputId": "6fe32757-15f4-412b-a01e-2da0dd416a6b"
      },
      "execution_count": 5,
      "outputs": [
        {
          "output_type": "stream",
          "name": "stdout",
          "text": [
            "Case A (True Mean = 6%): 4.70% of p-values <= 5%\n",
            "Case B (True Mean = 7%): 93.60% of p-values <= 5%\n"
          ]
        }
      ]
    }
  ]
}