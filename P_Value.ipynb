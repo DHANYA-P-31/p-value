{
  "nbformat": 4,
  "nbformat_minor": 0,
  "metadata": {
    "colab": {
      "provenance": [],
      "authorship_tag": "ABX9TyMAL83X3Soo7A3/QT5DO7nu",
      "include_colab_link": true
    },
    "kernelspec": {
      "name": "python3",
      "display_name": "Python 3"
    },
    "language_info": {
      "name": "python"
    }
  },
  "cells": [
    {
      "cell_type": "markdown",
      "metadata": {
        "id": "view-in-github",
        "colab_type": "text"
      },
      "source": [
        "<a href=\"https://colab.research.google.com/github/DHANYA-P-31/p-value/blob/main/P_Value.ipynb\" target=\"_parent\"><img src=\"https://colab.research.google.com/assets/colab-badge.svg\" alt=\"Open In Colab\"/></a>"
      ]
    },
    {
      "cell_type": "code",
      "execution_count": 6,
      "metadata": {
        "colab": {
          "base_uri": "https://localhost:8080/"
        },
        "id": "bIuHp5ZMbFAT",
        "outputId": "4bbbfc6f-b89b-4c95-d049-56b6d370fd3e"
      },
      "outputs": [
        {
          "output_type": "stream",
          "name": "stdout",
          "text": [
            "Scenario 1 (True mean = 0.06): Proportion of p-values <= 0.05: 0.039\n",
            "Scenario 2 (True mean = 0.07): Proportion of p-values <= 0.05: 0.940\n"
          ]
        }
      ],
      "source": [
        "import numpy as np\n",
        "from scipy.stats import norm\n",
        "\n",
        "n = 50\n",
        "sigma = 0.02\n",
        "se = sigma / np.sqrt(n)\n",
        "n_simulations = 1000\n",
        "alpha = 0.05\n",
        "\n",
        "# Scenario 1: True mean = 0.06\n",
        "p_values_1 = []\n",
        "for _ in range(n_simulations):\n",
        "    sample = np.random.normal(loc=0.06, scale=sigma, size=n)\n",
        "    sample_mean = np.mean(sample)\n",
        "    z = (sample_mean - 0.06) / se\n",
        "    p_value = 2 * (1 - norm.cdf(abs(z)))\n",
        "    p_values_1.append(p_value)\n",
        "prop_1 = np.mean(np.array(p_values_1) <= alpha)\n",
        "\n",
        "# Scenario 2: True mean = 0.07\n",
        "p_values_2 = []\n",
        "for _ in range(n_simulations):\n",
        "    sample = np.random.normal(loc=0.07, scale=sigma, size=n)\n",
        "    sample_mean = np.mean(sample)\n",
        "    z = (sample_mean - 0.06) / se\n",
        "    p_value = 2 * (1 - norm.cdf(abs(z)))\n",
        "    p_values_2.append(p_value)\n",
        "prop_2 = np.mean(np.array(p_values_2) <= alpha)\n",
        "\n",
        "# Print the results\n",
        "print(f\"Scenario 1 (True mean = 0.06): Proportion of p-values <= 0.05: {prop_1:.3f}\")\n",
        "print(f\"Scenario 2 (True mean = 0.07): Proportion of p-values <= 0.05: {prop_2:.3f}\")"
      ]
    }
  ]
}